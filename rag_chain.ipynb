{
 "cells": [
  {
   "cell_type": "code",
   "execution_count": 1,
   "metadata": {},
   "outputs": [],
   "source": [
    "import torch"
   ]
  },
  {
   "cell_type": "code",
   "execution_count": 1,
   "metadata": {},
   "outputs": [],
   "source": [
    "# from langchain_community.document_loaders import UnstructuredPDFLoader\n",
    "from langchain_community.document_loaders import OnlinePDFLoader\n",
    "from langchain_community.document_loaders import PyPDFLoader"
   ]
  },
  {
   "cell_type": "code",
   "execution_count": 2,
   "metadata": {},
   "outputs": [],
   "source": [
    "local_path = \"input.pdf\"\n",
    "\n",
    "# Local PDF file uploads\n",
    "if local_path:\n",
    "  loader = PyPDFLoader(file_path=local_path)\n",
    "  data = loader.load()\n",
    "else:\n",
    "  print(\"Upload a PDF file\")"
   ]
  },
  {
   "cell_type": "code",
   "execution_count": 3,
   "metadata": {},
   "outputs": [
    {
     "data": {
      "text/plain": [
       "'1.1 WHAT IS PHYSICS ?\\nThe nature around us is colourful and diverse. It\\ncontains phenomena of large varieties. The winds, the\\nsands, the waters, the planets, the rainbow, heating of\\nobjects on rubbing, the function of a human body, the\\nenergy coming from the sun and the nucleus ……  there\\nare a large number of objects and events taking place\\naround us.\\nPhysics is the study of nature and its laws. We\\nexpect that all these different events in nature take\\nplace according to some basic laws and revealing these\\nlaws of nature from the observed events  is physics. For\\nexample, the orbiting of the moon around the earth,\\nfalling of an apple from a tree and tides in a sea on a\\nfull moon night can all be explained if we know the\\nNewton’s law of gravitation and Newton’s laws of\\nmotion. Physics is concerned with the basic rules\\nwhich are applicable to all domains of life.\\nUnderstanding of physics, therefore, leads to\\napplications in many fields including bio and medical\\nsciences.\\nThe great physicist Dr R. P . Feynman has given a\\nwonderful description of what is “understanding the\\nnature”. Suppose we do not know the rules of chess\\nbut are allowed to watch the moves of the players. If\\nwe watch the game for a long time, we may make out\\nsome of the rules. With the knowledge of these rules\\nwe may try to understand why a player played a\\nparticular move. However, this may be a very difficult\\ntask. Even if we know all the rules of chess, it is not\\nso simple to understand all the complications of a game\\nin a given situation and predict the correct move.\\nKnowing the basic rules is, however, the minimum\\nrequirement if any progress is to be made.\\nOne may guess at a wrong rule by partially\\nwatching the game. The experienced player may make\\nuse of a rule for the first time and the observer of the\\ngame may get surprised. Because of the new move\\nsome of the rules guessed at may prove to be wrong\\nand the observer will frame new rules.\\nPhysics goes the same way. The nature around us\\nis like a big chess game played by Nature. The events\\nin the nature are like the moves of the great game.\\nWe are allowed to watch the events of nature and\\nguess at the basic rules according to which the events\\ntake place. We may come across new events which do\\nnot follow the rules guessed earlier and we may have\\nto declare the old rules inapplicable or wrong and\\ndiscover new rules.\\nSince physics is the study of nature, it is real. No\\none has been given the authority to frame the rules of\\nphysics. We only discover the rules that are operating\\nin nature. Aryabhat, Newton, Einstein or Feynman are\\ngreat physicists because from the observations\\navailable at that time, they could guess and frame the\\nlaws of physics which explained these observations in\\na convincing way. But there can be a new phenomenon\\nany day and if the rules discovered by the great\\nscientists are not able to explain this phenomenon, no\\none will hesitate to change these rules.\\n1.2 PHYSICS AND MATHEMATICS\\nThe description of nature becomes easy if we have\\nthe freedom to use mathematics. To say that the\\ngravitational force between two masses is proportional\\nto the product of the masses and is inversely\\nproportional to the square of the distance apart, is\\nmore difficult than to write\\nF ∝  m1m2\\nr\\n 2  ⋅…  (1.1)\\nFurther, the techniques of mathematics such as\\nalgebra, trigonometry and calculus can be used to\\nmake predictions from the basic equations. Thus, if we\\nknow the basic rule (1.1) about the force between two\\nparticles, we can use the technique of integral calculus\\nto find what will be the force exerted by a uniform rod\\non a particle placed on its perpendicular bisector.\\nThus, mathematics is the language of physics.\\nWithout knowledge of mathematics it would be much\\nmore difficult to discover, understand and explain the\\nCHAPTER 1\\nINTRODUCTION TO PHYSICS'"
      ]
     },
     "execution_count": 3,
     "metadata": {},
     "output_type": "execute_result"
    }
   ],
   "source": [
    "# Preview first page\n",
    "data[0].page_content"
   ]
  },
  {
   "cell_type": "code",
   "execution_count": 4,
   "metadata": {},
   "outputs": [],
   "source": [
    "from langchain_community.embeddings import OllamaEmbeddings\n",
    "from langchain_text_splitters import RecursiveCharacterTextSplitter\n",
    "from langchain_community.vectorstores import Chroma"
   ]
  },
  {
   "cell_type": "code",
   "execution_count": 5,
   "metadata": {},
   "outputs": [],
   "source": [
    "# Split and chunk \n",
    "text_splitter = RecursiveCharacterTextSplitter(chunk_size=7500, chunk_overlap=100)\n",
    "chunks = text_splitter.split_documents(data)"
   ]
  },
  {
   "cell_type": "code",
   "execution_count": 7,
   "metadata": {},
   "outputs": [
    {
     "name": "stderr",
     "output_type": "stream",
     "text": [
      "OllamaEmbeddings: 100%|██████████| 455/455 [00:07<00:00, 59.55it/s]\n"
     ]
    }
   ],
   "source": [
    "vector_db = Chroma.from_documents(\n",
    "    documents=chunks, \n",
    "    embedding=OllamaEmbeddings(model=\"nomic-embed-text\",show_progress=True),\n",
    "    collection_name=\"local-rag\"\n",
    ")"
   ]
  },
  {
   "cell_type": "code",
   "execution_count": 8,
   "metadata": {},
   "outputs": [],
   "source": [
    "from langchain.prompts import ChatPromptTemplate, PromptTemplate\n",
    "from langchain_core.output_parsers import StrOutputParser\n",
    "from langchain_community.chat_models import ChatOllama\n",
    "from langchain_core.runnables import RunnablePassthrough\n",
    "from langchain.retrievers.multi_query import MultiQueryRetriever"
   ]
  },
  {
   "cell_type": "code",
   "execution_count": 9,
   "metadata": {},
   "outputs": [
    {
     "name": "stderr",
     "output_type": "stream",
     "text": [
      "/tmp/ipykernel_25316/811129129.py:2: LangChainDeprecationWarning: The class `ChatOllama` was deprecated in LangChain 0.3.1 and will be removed in 1.0.0. An updated version of the class exists in the :class:`~langchain-ollama package and should be used instead. To use it run `pip install -U :class:`~langchain-ollama` and import as `from :class:`~langchain_ollama import ChatOllama``.\n",
      "  llm = ChatOllama(model=local_model)\n"
     ]
    }
   ],
   "source": [
    "local_model = \"llama3.2\"\n",
    "llm = ChatOllama(model=local_model)"
   ]
  },
  {
   "cell_type": "code",
   "execution_count": 10,
   "metadata": {},
   "outputs": [],
   "source": [
    "QUERY_PROMPT = PromptTemplate(\n",
    "    input_variables=[\"question\"],\n",
    "    template=\"\"\"You are an AI language model assistant. Your task is to generate five\n",
    "    different versions of the given user question to retrieve relevant documents from\n",
    "    a vector database. By generating multiple perspectives on the user question, your\n",
    "    goal is to help the user overcome some of the limitations of the distance-based\n",
    "    similarity search. Provide these alternative questions separated by newlines.\n",
    "    Original question: {question}\"\"\",\n",
    ")"
   ]
  },
  {
   "cell_type": "code",
   "execution_count": 11,
   "metadata": {},
   "outputs": [],
   "source": [
    "retriever = MultiQueryRetriever.from_llm(\n",
    "    vector_db.as_retriever(), \n",
    "    llm,\n",
    "    prompt=QUERY_PROMPT\n",
    ")\n",
    "\n",
    "# RAG prompt\n",
    "template = \"\"\"Answer the question based ONLY on the following context:\n",
    "{context}\n",
    "Question: {question}\n",
    "\"\"\"\n",
    "\n",
    "prompt = ChatPromptTemplate.from_template(template)"
   ]
  },
  {
   "cell_type": "code",
   "execution_count": 12,
   "metadata": {},
   "outputs": [],
   "source": [
    "chain = (\n",
    "    {\"context\": retriever, \"question\": RunnablePassthrough()}\n",
    "    | prompt\n",
    "    | llm\n",
    "    | StrOutputParser()\n",
    ")"
   ]
  },
  {
   "cell_type": "code",
   "execution_count": 18,
   "metadata": {},
   "outputs": [
    {
     "name": "stderr",
     "output_type": "stream",
     "text": [
      "OllamaEmbeddings: 100%|██████████| 1/1 [00:00<00:00, 141.58it/s]\n",
      "OllamaEmbeddings: 100%|██████████| 1/1 [00:00<00:00, 140.64it/s]\n",
      "OllamaEmbeddings: 100%|██████████| 1/1 [00:00<00:00, 188.22it/s]\n",
      "OllamaEmbeddings: 100%|██████████| 1/1 [00:00<00:00, 179.07it/s]\n",
      "OllamaEmbeddings: 100%|██████████| 1/1 [00:00<00:00, 236.67it/s]\n",
      "OllamaEmbeddings: 100%|██████████| 1/1 [00:00<00:00, 171.31it/s]\n",
      "OllamaEmbeddings: 100%|██████████| 1/1 [00:00<00:00, 243.39it/s]\n"
     ]
    },
    {
     "data": {
      "text/plain": [
       "'To solve this problem, we need to use the concept of centripetal force and Newton\\'s second law.\\n\\nLet\\'s break down the problem step by step:\\n\\n1. Convert the speed from km/hr to m/s:\\n900 km/hr = 900 × (1000/3600) m/s = 250 m/s\\n\\n2. The fighter plane is moving in a vertical circle, so it experiences a centripetal force directed towards the center of the circle. We can find this force using the equation:\\n\\nFc = (m × v^2) / r\\n\\nwhere Fc is the centripetal force, m is the mass of the plane, v is its velocity, and r is the radius of the circle.\\n\\n3. Substitute the given values:\\nFc = (16000 kg × (250 m/s)^2) / 2000 m\\n= 16000 × 62500 / 2000\\n= 10,000,000 N\\n\\n4. However, this is not the force exerted by the air on the plane at the lowest point. To find this force, we need to consider the component of the centripetal force that acts in the direction of gravity (i.e., downwards). We can do this by finding the component of Fc along the gravitational field.\\n\\nLet\\'s call the angle between Fc and the vertical \"θ\". Since Fc is directed towards the center of the circle, θ = 90°. The component of Fc along the vertical axis is:\\nFcv = Fc × cos(90°) = 0 (since cos(90°) = 0)\\n\\nHowever, this result doesn\\'t make sense in this context, since we know that there must be a force acting on the plane at the lowest point. This means that our assumption of θ = 90° is incorrect.\\n\\nLet\\'s recalculate Fc using a different approach. We can use the equation:\\n\\nF = m × a\\n\\nwhere F is the net force acting on the plane, and a is its acceleration. Since the plane is moving in a circle, we know that a = v^2 / r.\\n\\nSubstituting this expression for a into the equation for F, we get:\\nF = 16000 kg × (250 m/s)^2 / 2000 m\\n= 10,000,000 N\\n\\nHowever, since the plane is moving in a circle, it\\'s not just its weight that\\'s contributing to the force acting on it. We also need to consider the normal force exerted by the air on the plane.\\n\\nThe net force acting on the plane can be resolved into two components: one perpendicular to the vertical axis (which we\\'ve already calculated as 10,000,000 N) and one parallel to the vertical axis.\\n\\nTo find the component of F parallel to the vertical axis, we need to consider the equation for centripetal force:\\nF = m × v^2 / r\\n\\nHowever, this equation doesn\\'t take into account the angle between the velocity vector and the radius. Since the plane is moving in a circle, its velocity vector is always tangent to the circle.\\n\\nWe can resolve the velocity vector into two components: one parallel to the vertical axis (which we\\'ll call v_parallel) and one perpendicular to it (which we\\'ll call v_perpendicular).\\n\\nSince Fc = m × v_parallel^2 / r, we can solve for v_parallel:\\nv_parallel = √(r × Fc / m)\\n\\nSubstituting this expression into the equation for centripetal force, we get:\\n\\nF_perpendicular = m × v_perpendicular^2\\n\\nHowever, since the plane is moving in a circle, its velocity vector is always tangent to the circle. This means that v_perpendicular = 0.\\n\\nTherefore, the only component of F parallel to the vertical axis is:\\nv_parallel = √(r × Fc / m)\\n\\nNow we can use this expression to find the force exerted by the air on the plane at the lowest point:\\n\\nF_vertical = m × g + F_parallel\\n\\nSubstituting the values, we get:\\nF_vertical = 16000 kg × 9.8 m/s^2 + √(2000 m × 10,000,000 N / 16000 kg)\\n= 156800 N + √250000\\n≈ 156800 N + 500 N\\n≈ 157300 N\\n\\nTherefore, the force exerted by the air on the plane at the lowest point is approximately 157300 N.'"
      ]
     },
     "execution_count": 18,
     "metadata": {},
     "output_type": "execute_result"
    }
   ],
   "source": [
    "chain.invoke(input(\"\"))"
   ]
  },
  {
   "cell_type": "code",
   "execution_count": null,
   "metadata": {},
   "outputs": [],
   "source": [
    "chain.invoke(input(\"\"))"
   ]
  },
  {
   "cell_type": "code",
   "execution_count": null,
   "metadata": {},
   "outputs": [],
   "source": [
    "vector_db.delete_collection()"
   ]
  }
 ],
 "metadata": {
  "kernelspec": {
   "display_name": "ragenv",
   "language": "python",
   "name": "python3"
  },
  "language_info": {
   "codemirror_mode": {
    "name": "ipython",
    "version": 3
   },
   "file_extension": ".py",
   "mimetype": "text/x-python",
   "name": "python",
   "nbconvert_exporter": "python",
   "pygments_lexer": "ipython3",
   "version": "3.12.3"
  }
 },
 "nbformat": 4,
 "nbformat_minor": 2
}
